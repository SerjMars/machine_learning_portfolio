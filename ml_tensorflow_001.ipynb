{
 "cells": [
  {
   "cell_type": "code",
   "execution_count": 7,
   "metadata": {},
   "outputs": [],
   "source": [
    "import numpy as np\n",
    "import matplotlib.pyplot as plt"
   ]
  },
  {
   "cell_type": "code",
   "execution_count": 8,
   "metadata": {},
   "outputs": [],
   "source": [
    "import tensorflow as tf\n",
    "\n",
    "#from tensorflow import keras\n",
    "#from tensorflow.keras import layers\n",
    "#from tensorflow.keras.layers.experimental import preprocessing"
   ]
  },
  {
   "cell_type": "code",
   "execution_count": 28,
   "metadata": {},
   "outputs": [],
   "source": [
    "#CREAMOS NUESTRO DATASET\n",
    "#np.expand_dims((x_train * 0.75 + np.random.normal(0,1,100)), axis=1)\n",
    "\n",
    "x_data = np.linspace(0, 10, 100)\n",
    "y_data = x_data * 0.75 + np.random.normal(0,1,100)\n",
    "\n",
    "np.random.seed(7)\n",
    "x_train = np.expand_dims(x_data, axis=1)\n",
    "y_train = np.expand_dims(y_data, axis=1)"
   ]
  },
  {
   "cell_type": "code",
   "execution_count": 29,
   "metadata": {},
   "outputs": [
    {
     "data": {
      "image/png": "[encoded data removed]",
      "text/plain": [
       "<Figure size 432x288 with 1 Axes>"
      ]
     },
     "metadata": {},
     "output_type": "display_data"
    }
   ],
   "source": [
    "#GRAFICAMOS LOS DATOS PARA TENER UNA PERSPECTIVA GENERAL DEL DATASET\n",
    "\n",
    "plt.scatter(x_data, y_data)\n",
    "plt.xlabel('Eje X')\n",
    "plt.ylabel('Eje Y')\n",
    "plt.style.use('Solarize_Light2')\n",
    "#plt.markers('triangle')\n",
    "#plt.xlim(0,15)\n",
    "#plt.legend('labels', bbox_to_anchor=(0,1,1,.15), mode = 'expand', loc = 'upper center')"
   ]
  },
  {
   "cell_type": "code",
   "execution_count": 30,
   "metadata": {},
   "outputs": [],
   "source": [
    "#USAMOS TF.RANDOM.SETSEED() PARA REPRODUCIBILIDAD DE LOS VALORES DEL DATASET, PUES FUERON CREADOS CON \"RANDOM\"\n",
    "\n",
    "tf.random.set_seed(42)"
   ]
  },
  {
   "cell_type": "code",
   "execution_count": 31,
   "metadata": {},
   "outputs": [],
   "source": [
    "#DEFINIMOS LOS PARÁMETROS DEL MODELO\n",
    "\n",
    "model = tf.keras.Sequential([\n",
    "    tf.keras.layers.Dense(1) #Definimos la densidad de la red neuronal. En este caso le decimos que solo tendrá 1 neurona.\n",
    "    \n",
    "])"
   ]
  },
  {
   "cell_type": "code",
   "execution_count": 32,
   "metadata": {},
   "outputs": [],
   "source": [
    "#COMPILAMOS EL MODELO\n",
    "model.compile(loss=tf.keras.losses.mean_absolute_error,\n",
    "              optimizer=tf.keras.optimizers.SGD(),\n",
    "              metrics=[\"mae\"])"
   ]
  },
  {
   "cell_type": "code",
   "execution_count": 33,
   "metadata": {},
   "outputs": [
    {
     "name": "stdout",
     "output_type": "stream",
     "text": [
      "Epoch 1/10\n",
      "4/4 [==============================] - 1s 6ms/step - loss: 1.0924 - mae: 1.0924\n",
      "Epoch 2/10\n",
      "4/4 [==============================] - 0s 17ms/step - loss: 0.8077 - mae: 0.8077\n",
      "Epoch 3/10\n",
      "4/4 [==============================] - 0s 7ms/step - loss: 0.8023 - mae: 0.8023\n",
      "Epoch 4/10\n",
      "4/4 [==============================] - 0s 5ms/step - loss: 0.8085 - mae: 0.8085\n",
      "Epoch 5/10\n",
      "4/4 [==============================] - 0s 9ms/step - loss: 0.8313 - mae: 0.8313\n",
      "Epoch 6/10\n",
      "4/4 [==============================] - 0s 10ms/step - loss: 0.8211 - mae: 0.8211\n",
      "Epoch 7/10\n",
      "4/4 [==============================] - 0s 8ms/step - loss: 0.8009 - mae: 0.8009\n",
      "Epoch 8/10\n",
      "4/4 [==============================] - 0s 10ms/step - loss: 0.8301 - mae: 0.8301\n",
      "Epoch 9/10\n",
      "4/4 [==============================] - 0s 8ms/step - loss: 0.8126 - mae: 0.8126\n",
      "Epoch 10/10\n",
      "4/4 [==============================] - 0s 5ms/step - loss: 0.8305 - mae: 0.8305\n"
     ]
    },
    {
     "data": {
      "text/plain": [
       "<keras.callbacks.History at 0x7f83d52f1f70>"
      ]
     },
     "execution_count": 33,
     "metadata": {},
     "output_type": "execute_result"
    }
   ],
   "source": [
    "#AJUSTAMOS EL MODELO\n",
    "model.fit(x_train, y_train, epochs=10)"
   ]
  },
  {
   "cell_type": "code",
   "execution_count": 37,
   "metadata": {},
   "outputs": [
    {
     "name": "stdout",
     "output_type": "stream",
     "text": [
      "1/1 [==============================] - 0s 333ms/step\n",
      "[[3.8473828]]\n"
     ]
    }
   ],
   "source": [
    "dl_prediction = model.predict([5])\n",
    "print(dl_prediction)"
   ]
  },
  {
   "cell_type": "code",
   "execution_count": 63,
   "metadata": {},
   "outputs": [
    {
     "name": "stdout",
     "output_type": "stream",
     "text": [
      "<tf.Variable 'Variable:0' shape=() dtype=float32, numpy=0.39154568>\n",
      "<tf.Variable 'Variable:0' shape=() dtype=float32, numpy=-1.4431217>\n",
      "[<tf.Tensor: shape=(), dtype=float32, numpy=2.8014183e-06>, <tf.Tensor: shape=(), dtype=float32, numpy=-7.227063e-07>]\n"
     ]
    }
   ],
   "source": []
  },
  {
   "cell_type": "code",
   "execution_count": null,
   "metadata": {},
   "outputs": [],
   "source": []
  }
 ],
 "metadata": {
  "kernelspec": {
   "display_name": "Python 3.9.7 ('base')",
   "language": "python",
   "name": "python3"
  },
  "language_info": {
   "codemirror_mode": {
    "name": "ipython",
    "version": 3
   },
   "file_extension": ".py",
   "mimetype": "text/x-python",
   "name": "python",
   "nbconvert_exporter": "python",
   "pygments_lexer": "ipython3",
   "version": "3.9.7"
  },
  "orig_nbformat": 4,
  "vscode": {
   "interpreter": {
    "hash": "fcf27597daeb3930410aa464ed946a145eb25f4374582f95502df85289e772a3"
   }
  }
 },
 "nbformat": 4,
 "nbformat_minor": 2
}
