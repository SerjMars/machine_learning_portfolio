{
 "cells": [
  {
   "cell_type": "code",
   "execution_count": 1,
   "metadata": {},
   "outputs": [],
   "source": [
    "import numpy as np\n",
    "from sklearn.linear_model import LinearRegression\n",
    "import matplotlib.pyplot as plt\n"
   ]
  },
  {
   "cell_type": "code",
   "execution_count": 2,
   "metadata": {},
   "outputs": [],
   "source": [
    "np.random.seed(7)\n",
    "x_train = np.linspace(0, 10, 100)\n",
    "y_train = x_train * 0.75 + np.random.normal(0,1,100)"
   ]
  },
  {
   "cell_type": "code",
   "execution_count": 3,
   "metadata": {},
   "outputs": [],
   "source": [
    "x_train = x_train.reshape(-1,1)"
   ]
  },
  {
   "cell_type": "code",
   "execution_count": 4,
   "metadata": {},
   "outputs": [
    {
     "data": {
      "text/plain": [
       "array([ 1.6905257 , -0.39017979,  0.18433532,  0.63478901, -0.48589273,\n",
       "        0.38085345,  0.45365507, -1.22442128,  1.62371861,  1.2823167 ,\n",
       "        0.13214678,  0.66178507,  1.41439028,  0.72349207,  0.81785698,\n",
       "       -0.31687778,  1.76670152,  1.41175969,  1.63809629, -0.08713059,\n",
       "        3.16585121,  1.74524463,  1.27952672,  3.77149646,  1.77279579,\n",
       "        0.44326069,  1.56446911, -0.24286056,  3.17060867,  1.78049538,\n",
       "        1.53017375,  3.42095498,  0.77316683,  3.03542936,  0.51134277,\n",
       "        1.98935581,  1.52305288,  4.26500593,  4.64494876,  2.6251317 ,\n",
       "        3.87103627,  2.9260742 ,  3.74988007,  2.50473856,  1.62499413,\n",
       "        1.60599225,  3.86797034,  5.80820111,  3.90577527,  3.18751659,\n",
       "        5.69989765,  4.10093821,  4.04082792,  4.26772925,  3.95853189,\n",
       "        3.85719033,  2.80746078,  4.81980594,  4.29916394,  5.66278289,\n",
       "        4.17663608,  2.71484224,  4.59735907,  6.47226457,  4.46506173,\n",
       "        4.03438556,  3.80640808,  4.02574076,  4.85132141,  4.04729063,\n",
       "        6.80066942,  5.09615264,  5.56319383,  6.96854255,  7.10937913,\n",
       "        5.46908521,  6.08954997,  6.56835992,  5.71623545,  4.20683563,\n",
       "        6.71531176,  7.03071594,  6.62762383,  5.36433413,  6.16760905,\n",
       "        5.84862412,  6.21544028,  7.88779428,  8.1962463 ,  7.41184244,\n",
       "        7.36692694,  7.57056838,  6.95745478,  6.96979108,  6.44756693,\n",
       "        7.14110225,  9.53267426,  8.21752418,  7.0821254 ,  7.02807335])"
      ]
     },
     "execution_count": 4,
     "metadata": {},
     "output_type": "execute_result"
    }
   ],
   "source": [
    "y_train"
   ]
  },
  {
   "cell_type": "code",
   "execution_count": 5,
   "metadata": {},
   "outputs": [],
   "source": [
    "regML = LinearRegression()"
   ]
  },
  {
   "cell_type": "code",
   "execution_count": 6,
   "metadata": {},
   "outputs": [
    {
     "data": {
      "text/plain": [
       "LinearRegression()"
      ]
     },
     "execution_count": 6,
     "metadata": {},
     "output_type": "execute_result"
    }
   ],
   "source": [
    "regML.fit(x_train, y_train)"
   ]
  },
  {
   "cell_type": "code",
   "execution_count": 7,
   "metadata": {},
   "outputs": [
    {
     "data": {
      "text/plain": [
       "array([0.787125])"
      ]
     },
     "execution_count": 7,
     "metadata": {},
     "output_type": "execute_result"
    }
   ],
   "source": [
    "regML.coef_"
   ]
  },
  {
   "cell_type": "code",
   "execution_count": 8,
   "metadata": {},
   "outputs": [
    {
     "data": {
      "text/plain": [
       "-0.17355958436873253"
      ]
     },
     "execution_count": 8,
     "metadata": {},
     "output_type": "execute_result"
    }
   ],
   "source": [
    "regML.intercept_"
   ]
  },
  {
   "cell_type": "code",
   "execution_count": 9,
   "metadata": {},
   "outputs": [
    {
     "data": {
      "text/plain": [
       "array([3.76206542])"
      ]
     },
     "execution_count": 9,
     "metadata": {},
     "output_type": "execute_result"
    }
   ],
   "source": [
    "regML.predict([[5]])"
   ]
  },
  {
   "cell_type": "code",
   "execution_count": 10,
   "metadata": {},
   "outputs": [
    {
     "name": "stdout",
     "output_type": "stream",
     "text": [
      "La línea intersecta en : -0.17355958436873253 y el valor de la pendiente es: [0.787125]\n"
     ]
    }
   ],
   "source": [
    "print(f\"La línea intersecta en : {regML.intercept_} y el valor de la pendiente es: {regML.coef_}\")"
   ]
  },
  {
   "cell_type": "code",
   "execution_count": 11,
   "metadata": {},
   "outputs": [
    {
     "data": {
      "image/png": "[encoded data removed]",
      "text/plain": [
       "<Figure size 432x288 with 1 Axes>"
      ]
     },
     "metadata": {
      "needs_background": "light"
     },
     "output_type": "display_data"
    }
   ],
   "source": [
    "plt.scatter(x_train, y_train)\n",
    "plt.show()"
   ]
  },
  {
   "cell_type": "code",
   "execution_count": null,
   "metadata": {},
   "outputs": [],
   "source": []
  }
 ],
 "metadata": {
  "kernelspec": {
   "display_name": "Python 3.9.7 ('base')",
   "language": "python",
   "name": "python3"
  },
  "language_info": {
   "codemirror_mode": {
    "name": "ipython",
    "version": 3
   },
   "file_extension": ".py",
   "mimetype": "text/x-python",
   "name": "python",
   "nbconvert_exporter": "python",
   "pygments_lexer": "ipython3",
   "version": "3.9.7"
  },
  "orig_nbformat": 4,
  "vscode": {
   "interpreter": {
    "hash": "fcf27597daeb3930410aa464ed946a145eb25f4374582f95502df85289e772a3"
   }
  }
 },
 "nbformat": 4,
 "nbformat_minor": 2
}
